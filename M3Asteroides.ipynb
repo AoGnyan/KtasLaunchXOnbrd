{
 "cells": [
  {
   "cell_type": "code",
   "execution_count": 29,
   "metadata": {},
   "outputs": [
    {
     "name": "stdout",
     "output_type": "stream",
     "text": [
      "Alerta de asteroide a velocidad critica\n"
     ]
    }
   ],
   "source": [
    "#Problema 1\n",
    "asteroide = 49\n",
    "if asteroide > 20:\n",
    " print ('Alerta de asteroide a velocidad critica')\n",
    "else:\n",
    " print ('Los asteroides son una conspiración')"
   ]
  },
  {
   "cell_type": "code",
   "execution_count": 25,
   "metadata": {},
   "outputs": [
    {
     "name": "stdout",
     "output_type": "stream",
     "text": [
      "¿Qué estas buscando en el cielo? aquí no hay nada\n"
     ]
    }
   ],
   "source": [
    "#Problema 2\n",
    "asteroide = 19\n",
    "if asteroide > 20:\n",
    "    print ('¡Ve arriba! ¡Pide un deseo a la luz!')\n",
    "elif asteroide == 20:\n",
    "        print ('Mira al cielo y pide un deseo')\n",
    "else:\n",
    "    print('¿Qué estas buscando en el cielo? aquí no hay nada')"
   ]
  },
  {
   "cell_type": "code",
   "execution_count": 33,
   "metadata": {},
   "outputs": [
    {
     "name": "stdout",
     "output_type": "stream",
     "text": [
      "¡Ve arriba! ¡Pide un deseo a la luz!\n"
     ]
    }
   ],
   "source": [
    "#Problema 3\n",
    "velocidad_asteroide = 25\n",
    "tamano_asteroide = 40\n",
    "if velocidad_asteroide > 25 and tamano_asteroide > 25:\n",
    "    print('¡Alerta, Un asteroide muy peligroso viene hacia la Tierra!')\n",
    "elif velocidad_asteroide >= 20:\n",
    "    print('¡Ve arriba! ¡Pide un deseo a la luz!')\n",
    "elif tamano_asteroide < 25:\n",
    "    print('Los Asteroides son un mito')\n",
    "else:\n",
    "    print('Aquí no hay nada Sherlock')"
   ]
  }
 ],
 "metadata": {
  "interpreter": {
   "hash": "f56031e1bb68cfe0c4120812e132fa8f262627fe1d59bd48bf77890d767f8adb"
  },
  "kernelspec": {
   "display_name": "Python 3.10.1 64-bit",
   "language": "python",
   "name": "python3"
  },
  "language_info": {
   "codemirror_mode": {
    "name": "ipython",
    "version": 3
   },
   "file_extension": ".py",
   "mimetype": "text/x-python",
   "name": "python",
   "nbconvert_exporter": "python",
   "pygments_lexer": "ipython3",
   "version": "3.10.1"
  },
  "orig_nbformat": 4
 },
 "nbformat": 4,
 "nbformat_minor": 2
}
